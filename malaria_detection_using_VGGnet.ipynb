{
 "cells": [
  {
   "cell_type": "code",
   "execution_count": 1,
   "metadata": {
    "colab": {
     "base_uri": "https://localhost:8080/",
     "height": 34
    },
    "colab_type": "code",
    "id": "TfgtP4IjTg7e",
    "outputId": "343e06ab-6ce7-40e8-ea7e-0591ed720049"
   },
   "outputs": [
    {
     "name": "stderr",
     "output_type": "stream",
     "text": [
      "Using TensorFlow backend.\n"
     ]
    }
   ],
   "source": [
    "import os\n",
    "from keras import Sequential,Model\n",
    "from keras.layers import Dense,Flatten,MaxPooling2D,Convolution2D,Activation,BatchNormalization,Softmax,Dropout,GlobalMaxPool2D,GlobalAveragePooling2D\n",
    "from keras import optimizers\n",
    "import numpy as np\n",
    "import sklearn\n",
    "import random\n",
    "from pathlib import Path\n",
    "\n",
    "from keras import callbacks\n",
    "import matplotlib.pyplot as plt\n",
    "from keras.preprocessing import image\n",
    "from keras.applications.vgg16 import VGG16\n",
    "\n"
   ]
  },
  {
   "cell_type": "code",
   "execution_count": 2,
   "metadata": {
    "colab": {
     "base_uri": "https://localhost:8080/",
     "height": 52
    },
    "colab_type": "code",
    "id": "8Cpn6zG8UB_6",
    "outputId": "18aa09b9-6098-4e91-f68a-fa3d904bf82f"
   },
   "outputs": [
    {
     "name": "stdout",
     "output_type": "stream",
     "text": [
      "13779\n",
      "13779\n"
     ]
    }
   ],
   "source": [
    "p = Path(\"./cell_images/\")\n",
    "dirs=p.glob('*')\n",
    "label_dict={'Uninfected':0,'Parasitized':1}\n",
    "label2class={0:'Uninfected',1:'Parasitized'}\n",
    "image_data=[]\n",
    "labels=[]\n",
    "image_paths=[]\n",
    "image_data = []\n",
    "labels = []\n",
    "\n",
    "#Optional\n",
    "image_paths = []\n",
    "\n",
    "for folder_dir in dirs:\n",
    "    label = str(folder_dir).split(\"/\")[-1]\n",
    "    cnt = 0\n",
    "    #Iterate over folder_dir\n",
    "    for img_path in folder_dir.glob(\"*.png\"):\n",
    "        \n",
    "        img = image.load_img(img_path,target_size=(100,100))\n",
    "        img_array= image.img_to_array(img)\n",
    "        image_data.append(img_array)\n",
    "        labels.append(label_dict[label])\n",
    "        cnt += 1\n",
    "        \n",
    "    print(cnt)"
   ]
  },
  {
   "cell_type": "code",
   "execution_count": 3,
   "metadata": {
    "colab": {
     "base_uri": "https://localhost:8080/",
     "height": 52
    },
    "colab_type": "code",
    "id": "GZ3fN0joUCEF",
    "outputId": "8e0ff63a-1eaf-45d1-af33-cdfca869156f"
   },
   "outputs": [
    {
     "name": "stdout",
     "output_type": "stream",
     "text": [
      "[0, 0, 0, 0, 0, 0, 0, 0, 0, 0]\n",
      "[0 0 0 1 0 0 0 1 0 1]\n"
     ]
    }
   ],
   "source": [
    "print(labels[:10])\n",
    "combined = list(zip(image_data,labels))\n",
    "random.seed(4)\n",
    "random.shuffle(combined)\n",
    "image_data[:],labels[:] = zip(*combined)\n",
    "x=np.array(image_data)\n",
    "y=np.array(labels)\n",
    "x=x/255.0\n",
    "print(y[:10])\n"
   ]
  },
  {
   "cell_type": "code",
   "execution_count": 4,
   "metadata": {
    "colab": {
     "base_uri": "https://localhost:8080/",
     "height": 34
    },
    "colab_type": "code",
    "id": "8mdw3NzXUCGR",
    "outputId": "9b28c9db-ec21-44f1-c3b4-a61b61641459"
   },
   "outputs": [
    {
     "name": "stdout",
     "output_type": "stream",
     "text": [
      "(22046, 100, 100, 3) (22046, 2) (5512, 100, 100, 3) (5512, 2)\n"
     ]
    }
   ],
   "source": [
    "from keras.utils import np_utils\n",
    "x_train=x[:int(x.shape[0]*0.8),:]\n",
    "y_train=y[:int(y.shape[0]*0.8)]\n",
    "x_test=x[x_train.shape[0]:x.shape[0],:]\n",
    "y_test=y[y_train.shape[0]:y.shape[0]]\n",
    "y_test=np_utils.to_categorical(y_test)\n",
    "y_train=np_utils.to_categorical(y_train)\n",
    "print(x_train.shape,y_train.shape,x_test.shape,y_test.shape)"
   ]
  },
  {
   "cell_type": "code",
   "execution_count": 0,
   "metadata": {
    "colab": {},
    "colab_type": "code",
    "id": "C3IlYF1DYZYV"
   },
   "outputs": [],
   "source": []
  },
  {
   "cell_type": "code",
   "execution_count": 5,
   "metadata": {
    "colab": {
     "base_uri": "https://localhost:8080/",
     "height": 124
    },
    "colab_type": "code",
    "id": "_wN7fc_OUCIc",
    "outputId": "50a2e345-0da5-4a69-a64b-a699f71a189e"
   },
   "outputs": [
    {
     "name": "stdout",
     "output_type": "stream",
     "text": [
      "WARNING:tensorflow:From /usr/local/lib/python3.6/dist-packages/tensorflow/python/framework/op_def_library.py:263: colocate_with (from tensorflow.python.framework.ops) is deprecated and will be removed in a future version.\n",
      "Instructions for updating:\n",
      "Colocations handled automatically by placer.\n",
      "Downloading data from https://github.com/fchollet/deep-learning-models/releases/download/v0.1/vgg16_weights_tf_dim_ordering_tf_kernels_notop.h5\n",
      "58892288/58889256 [==============================] - 2s 0us/step\n"
     ]
    }
   ],
   "source": [
    "res_model = VGG16(include_top=False,weights='imagenet', input_shape=(100,100,3))"
   ]
  },
  {
   "cell_type": "code",
   "execution_count": 14,
   "metadata": {
    "colab": {
     "base_uri": "https://localhost:8080/",
     "height": 1076
    },
    "colab_type": "code",
    "id": "_A9Z-gwmUCKt",
    "outputId": "defd765b-40c3-4ca7-df99-5d0fe6dbc277"
   },
   "outputs": [
    {
     "name": "stdout",
     "output_type": "stream",
     "text": [
      "_________________________________________________________________\n",
      "Layer (type)                 Output Shape              Param #   \n",
      "=================================================================\n",
      "input_1 (InputLayer)         (None, 100, 100, 3)       0         \n",
      "_________________________________________________________________\n",
      "block1_conv1 (Conv2D)        (None, 100, 100, 64)      1792      \n",
      "_________________________________________________________________\n",
      "block1_conv2 (Conv2D)        (None, 100, 100, 64)      36928     \n",
      "_________________________________________________________________\n",
      "block1_pool (MaxPooling2D)   (None, 50, 50, 64)        0         \n",
      "_________________________________________________________________\n",
      "block2_conv1 (Conv2D)        (None, 50, 50, 128)       73856     \n",
      "_________________________________________________________________\n",
      "block2_conv2 (Conv2D)        (None, 50, 50, 128)       147584    \n",
      "_________________________________________________________________\n",
      "block2_pool (MaxPooling2D)   (None, 25, 25, 128)       0         \n",
      "_________________________________________________________________\n",
      "block3_conv1 (Conv2D)        (None, 25, 25, 256)       295168    \n",
      "_________________________________________________________________\n",
      "block3_conv2 (Conv2D)        (None, 25, 25, 256)       590080    \n",
      "_________________________________________________________________\n",
      "block3_conv3 (Conv2D)        (None, 25, 25, 256)       590080    \n",
      "_________________________________________________________________\n",
      "block3_pool (MaxPooling2D)   (None, 12, 12, 256)       0         \n",
      "_________________________________________________________________\n",
      "block4_conv1 (Conv2D)        (None, 12, 12, 512)       1180160   \n",
      "_________________________________________________________________\n",
      "block4_conv2 (Conv2D)        (None, 12, 12, 512)       2359808   \n",
      "_________________________________________________________________\n",
      "block4_conv3 (Conv2D)        (None, 12, 12, 512)       2359808   \n",
      "_________________________________________________________________\n",
      "block4_pool (MaxPooling2D)   (None, 6, 6, 512)         0         \n",
      "_________________________________________________________________\n",
      "block5_conv1 (Conv2D)        (None, 6, 6, 512)         2359808   \n",
      "_________________________________________________________________\n",
      "block5_conv2 (Conv2D)        (None, 6, 6, 512)         2359808   \n",
      "_________________________________________________________________\n",
      "block5_conv3 (Conv2D)        (None, 6, 6, 512)         2359808   \n",
      "_________________________________________________________________\n",
      "block5_pool (MaxPooling2D)   (None, 3, 3, 512)         0         \n",
      "_________________________________________________________________\n",
      "global_average_pooling2d_2 ( (None, 512)               0         \n",
      "_________________________________________________________________\n",
      "dense_5 (Dense)              (None, 512)               262656    \n",
      "_________________________________________________________________\n",
      "dropout_3 (Dropout)          (None, 512)               0         \n",
      "_________________________________________________________________\n",
      "dense_6 (Dense)              (None, 256)               131328    \n",
      "_________________________________________________________________\n",
      "dropout_4 (Dropout)          (None, 256)               0         \n",
      "_________________________________________________________________\n",
      "batch_normalization_2 (Batch (None, 256)               1024      \n",
      "_________________________________________________________________\n",
      "dense_7 (Dense)              (None, 64)                16448     \n",
      "_________________________________________________________________\n",
      "dense_8 (Dense)              (None, 2)                 130       \n",
      "=================================================================\n",
      "Total params: 15,126,274\n",
      "Trainable params: 15,125,762\n",
      "Non-trainable params: 512\n",
      "_________________________________________________________________\n"
     ]
    }
   ],
   "source": [
    "\n",
    "av1 = GlobalAveragePooling2D()(res_model.output)\n",
    "fc1 = Dense(512, activation='relu')(av1)\n",
    "drp1=Dropout(0.25)(fc1)\n",
    "fc2 = Dense(256, activation='relu')(drp1)\n",
    "drp2=Dropout(0.25)(fc2)\n",
    "bat_norm=BatchNormalization()(drp2)\n",
    "fc3 = Dense(64, activation='relu')(bat_norm)\n",
    "out = Dense(2, activation='softmax')(fc3)\n",
    "\n",
    "tl_model = Model(inputs=res_model.input,outputs=out)\n",
    "tl_model.summary()"
   ]
  },
  {
   "cell_type": "code",
   "execution_count": 0,
   "metadata": {
    "colab": {},
    "colab_type": "code",
    "id": "OyUaWWflUCNL"
   },
   "outputs": [],
   "source": [
    "ada = optimizers.adam(lr=1e-5, decay=5e-4)\n",
    "tl_model.compile(loss='categorical_crossentropy', optimizer=ada, metrics=[\"mae\",'accuracy'])"
   ]
  },
  {
   "cell_type": "code",
   "execution_count": 0,
   "metadata": {
    "colab": {},
    "colab_type": "code",
    "id": "9qoU6bG2UCPw"
   },
   "outputs": [],
   "source": [
    "hist = tl_model.fit(x_train,y_train,epochs=20,shuffle=True,batch_size=64,validation_split=0.20)"
   ]
  },
  {
   "cell_type": "markdown",
   "metadata": {
    "colab_type": "text",
    "id": "EmIT7QMyjjJ9"
   },
   "source": []
  },
  {
   "cell_type": "markdown",
   "metadata": {
    "colab_type": "text",
    "id": "uXcjioiGjilz"
   },
   "source": []
  },
  {
   "cell_type": "code",
   "execution_count": 9,
   "metadata": {
    "colab": {
     "base_uri": "https://localhost:8080/",
     "height": 52
    },
    "colab_type": "code",
    "id": "rZfrTnfhUCSB",
    "outputId": "97206e9b-d6b8-4bc4-d963-202222999429"
   },
   "outputs": [
    {
     "name": "stdout",
     "output_type": "stream",
     "text": [
      "5512/5512 [==============================] - 17s 3ms/step\n"
     ]
    },
    {
     "data": {
      "text/plain": [
       "[0.1708138197294135, 0.03921722838873414, 0.9637155297532656]"
      ]
     },
     "execution_count": 9,
     "metadata": {
      "tags": []
     },
     "output_type": "execute_result"
    }
   ],
   "source": [
    "tl_model.evaluate(x_test,y_test)\n",
    "y_predicted=tl_model.predict(x_test)\n",
    "y_predicted=np.argmax(y_predicted,axis=1)\n",
    "print(y_predicted)"
   ]
  },
  {
   "cell_type": "code",
   "execution_count": 10,
   "metadata": {
    "colab": {
     "base_uri": "https://localhost:8080/",
     "height": 34
    },
    "colab_type": "code",
    "id": "ge8W-OvrUCUF",
    "outputId": "32aeeb7c-1ec9-4d13-a106-9953a26ae5a2"
   },
   "outputs": [
    {
     "name": "stdout",
     "output_type": "stream",
     "text": [
      "[1 1 0 ... 0 0 0]\n"
     ]
    }
   ],
   "source": [
    "\n",
    "\n",
    "y_test_score=y[y_train.shape[0]:y.shape[0]]"
   ]
  },
  {
   "cell_type": "code",
   "execution_count": 11,
   "metadata": {
    "colab": {
     "base_uri": "https://localhost:8080/",
     "height": 173
    },
    "colab_type": "code",
    "id": "ChlgL6MBUCWb",
    "outputId": "6a426bf5-64c2-4faf-9ad0-0efc3bbdaacf"
   },
   "outputs": [
    {
     "name": "stdout",
     "output_type": "stream",
     "text": [
      "              precision    recall  f1-score   support\n",
      "\n",
      "     class 1       0.95      0.98      0.96      2718\n",
      "     class 2       0.98      0.95      0.96      2794\n",
      "\n",
      "   micro avg       0.96      0.96      0.96      5512\n",
      "   macro avg       0.96      0.96      0.96      5512\n",
      "weighted avg       0.96      0.96      0.96      5512\n",
      "\n"
     ]
    }
   ],
   "source": [
    "\n",
    "from sklearn.metrics import classification_report\n",
    "target_names = ['class 1', 'class 2']\n",
    "\n",
    "print(classification_report(y_test_score, y_predicted, target_names=target_names))"
   ]
  },
  {
   "cell_type": "code",
   "execution_count": 12,
   "metadata": {
    "colab": {
     "base_uri": "https://localhost:8080/",
     "height": 86
    },
    "colab_type": "code",
    "id": "Mz6t_bgcUCYy",
    "outputId": "a2bcb5b1-fc78-400d-e2b9-f2028c303539"
   },
   "outputs": [
    {
     "name": "stdout",
     "output_type": "stream",
     "text": [
      "[[2663   55]\n",
      " [ 145 2649]]\n",
      "0.9796597633136095\n",
      "0.9481030780243379\n"
     ]
    }
   ],
   "source": [
    "from sklearn.metrics import confusion_matrix\n",
    "\n",
    "confusion = confusion_matrix(y_test_score, y_predicted)\n",
    "print(confusion)\n",
    "TP = confusion[1, 1]\n",
    "\n",
    "# True Negatives\n",
    "TN = confusion[0, 0]\n",
    "\n",
    "# False Positives\n",
    "FP = confusion[0, 1]\n",
    "\n",
    "# False Negatives\n",
    "FN = confusion[1, 0]\n",
    "\n",
    "###precision/sensitivity\n",
    "print(TP/float(TP+FP))\n",
    "###recall/specificity\n",
    "print(TP/float(TP+FN))\n",
    "      "
   ]
  },
  {
   "cell_type": "code",
   "execution_count": 13,
   "metadata": {
    "colab": {
     "base_uri": "https://localhost:8080/",
     "height": 677
    },
    "colab_type": "code",
    "id": "O3pFGIbEUCCs",
    "outputId": "c690a51e-e357-4ddd-f174-f6d251f6b8cc"
   },
   "outputs": [
    {
     "data": {
      "image/png": "[encoded data removed]",
      "text/plain": [
       "<Figure size 576x396 with 1 Axes>"
      ]
     },
     "metadata": {
      "tags": []
     },
     "output_type": "display_data"
    },
    {
     "data": {
      "image/png": "[encoded data removed]",
      "text/plain": [
       "<Figure size 576x396 with 1 Axes>"
      ]
     },
     "metadata": {
      "tags": []
     },
     "output_type": "display_data"
    }
   ],
   "source": [
    "plt.figure(0)\n",
    "plt.plot(hist.history['acc'],'r')\n",
    "plt.plot(hist.history['val_acc'],'b')\n",
    "\n",
    "\n",
    "plt.figure(1)\n",
    "plt.plot(hist.history['loss'],'r')\n",
    "plt.plot(hist.history['val_loss'],'b')\n",
    "\n",
    "plt.show()"
   ]
  },
  {
   "cell_type": "code",
   "execution_count": 0,
   "metadata": {
    "colab": {},
    "colab_type": "code",
    "id": "gsbKKzryVnVF"
   },
   "outputs": [],
   "source": []
  }
 ],
 "metadata": {
  "accelerator": "GPU",
  "colab": {
   "name": "malaria_detection_using_VGGnet.ipynb",
   "provenance": [],
   "version": "0.3.2"
  },
  "kernelspec": {
   "display_name": "Python 3",
   "language": "python",
   "name": "python3"
  },
  "language_info": {
   "codemirror_mode": {
    "name": "ipython",
    "version": 3
   },
   "file_extension": ".py",
   "mimetype": "text/x-python",
   "name": "python",
   "nbconvert_exporter": "python",
   "pygments_lexer": "ipython3",
   "version": "3.5.2"
  }
 },
 "nbformat": 4,
 "nbformat_minor": 1
}
